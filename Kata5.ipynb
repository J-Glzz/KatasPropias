{
 "cells": [
  {
   "cell_type": "markdown",
   "metadata": {},
   "source": [
    "## Ejercicio 1\n",
    "Comenzaremos usando dos distancias de planetas: Tierra (149.597.870 km) y Júpiter (778.547.200 km)."
   ]
  },
  {
   "cell_type": "code",
   "execution_count": 2,
   "metadata": {},
   "outputs": [
    {
     "name": "stdout",
     "output_type": "stream",
     "text": [
      "La tierra y jupiter tienen una distancia de separacion de 628949330 kilometros\n",
      "La tierra y jupiter tienen una distancia de separacion de 390577534 millas\n"
     ]
    }
   ],
   "source": [
    "tierra = 149597870\n",
    "jupiter = 778547200\n",
    "distanciaKM = (jupiter - tierra)\n",
    "distanciaML = distanciaKM * 0.621\n",
    "\n",
    "print(\"La tierra y jupiter tienen una distancia de separacion de \" + str(distanciaKM) + \" kilometros\")\n",
    "print(\"La tierra y jupiter tienen una distancia de separacion de \" + str(round(distanciaML)) + \" millas\")\n"
   ]
  },
  {
   "cell_type": "markdown",
   "metadata": {},
   "source": [
    "## Ejercicio 2\n",
    "Crear una aplicación para trabajar con números y entrada de usuario"
   ]
  },
  {
   "cell_type": "code",
   "execution_count": 1,
   "metadata": {},
   "outputs": [
    {
     "name": "stdout",
     "output_type": "stream",
     "text": [
      "Calculadora que mide distancias entre dos planeas\n"
     ]
    }
   ],
   "source": [
    "print(\"Calculadora que mide distancias entre dos planeas\")\n",
    "nombre1 = input(\"Introduce el nombre de tu primer planea: \")\n",
    "dist1 = input(\"Introduce distancia del planeta \" + nombre1 +\" hacia el sol:\")\n",
    "nombre2 = input(\"Introduce el nombre del segundo planeta: \")\n",
    "dist2 = input(\"Introduce distancia del planeta \" + nombre2 +\" hacia el sol:\")"
   ]
  },
  {
   "cell_type": "code",
   "execution_count": 7,
   "metadata": {},
   "outputs": [
    {
     "name": "stdout",
     "output_type": "stream",
     "text": [
      "La distancia entre la Tierra y Jupiter es de: 390577533.93 millas\n"
     ]
    }
   ],
   "source": [
    "distCal = abs((int(dist1) - int(dist2)) * 0.621)\n",
    "print(\"La distancia entre la \" + nombre1 + \" y \" + nombre2 + \" es de: \" + str(distCal) + \" millas\")"
   ]
  }
 ],
 "metadata": {
  "interpreter": {
   "hash": "89c03cb08c1aa6f0d5789038ae7526a4d516a8d47c59e3800814bdd43c861a4d"
  },
  "kernelspec": {
   "display_name": "Python 3.10.2 64-bit",
   "language": "python",
   "name": "python3"
  },
  "language_info": {
   "codemirror_mode": {
    "name": "ipython",
    "version": 3
   },
   "file_extension": ".py",
   "mimetype": "text/x-python",
   "name": "python",
   "nbconvert_exporter": "python",
   "pygments_lexer": "ipython3",
   "version": "3.10.2"
  },
  "orig_nbformat": 4
 },
 "nbformat": 4,
 "nbformat_minor": 2
}
