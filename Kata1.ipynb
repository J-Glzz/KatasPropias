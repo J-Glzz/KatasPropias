{
 "cells": [
  {
   "cell_type": "markdown",
   "metadata": {},
   "source": [
    "## Primer programa.\n",
    "Construir un programa que muestre la fecha."
   ]
  },
  {
   "cell_type": "code",
   "execution_count": 1,
   "metadata": {},
   "outputs": [
    {
     "name": "stdout",
     "output_type": "stream",
     "text": [
      "El día de hoy estamos a:  2022-02-09\n"
     ]
    }
   ],
   "source": [
    "from datetime import date\n",
    "print(\"El día de hoy estamos a: \", str(date.today()))"
   ]
  },
  {
   "cell_type": "markdown",
   "metadata": {},
   "source": [
    "## Segundo programa\n",
    "Construir un programa que covierta de parsecs a años luz"
   ]
  },
  {
   "cell_type": "code",
   "execution_count": 3,
   "metadata": {},
   "outputs": [
    {
     "name": "stdout",
     "output_type": "stream",
     "text": [
      "11 parsercs son equivalentes a 35.877159999999996 años luz.\n"
     ]
    }
   ],
   "source": [
    "parsecs = 11\n",
    "lightyears = 3.26156\n",
    "convertLightyears = parsecs * lightyears\n",
    "\n",
    "print(str(parsecs) + \" parsercs son equivalentes a \" + str(convertLightyears) + \" años luz.\")"
   ]
  }
 ],
 "metadata": {
  "interpreter": {
   "hash": "89c03cb08c1aa6f0d5789038ae7526a4d516a8d47c59e3800814bdd43c861a4d"
  },
  "kernelspec": {
   "display_name": "Python 3.10.2 64-bit",
   "language": "python",
   "name": "python3"
  },
  "language_info": {
   "codemirror_mode": {
    "name": "ipython",
    "version": 3
   },
   "file_extension": ".py",
   "mimetype": "text/x-python",
   "name": "python",
   "nbconvert_exporter": "python",
   "pygments_lexer": "ipython3",
   "version": "3.10.2"
  },
  "orig_nbformat": 4
 },
 "nbformat": 4,
 "nbformat_minor": 2
}
