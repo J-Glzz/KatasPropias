{
 "cells": [
  {
   "cell_type": "markdown",
   "metadata": {},
   "source": [
    "## Ejercicio 1\n"
   ]
  },
  {
   "cell_type": "code",
   "execution_count": 10,
   "metadata": {},
   "outputs": [],
   "source": [
    "# Función para leer 3 tanques de combustible y muestre el promedio\n",
    "def impProm(fuel1, fuel2, fuel3):\n",
    "    prom = (fuel1 + fuel2 + fuel3) / 3\n",
    "    return f\"\"\"\n",
    "    Promedio del combustible: {prom}\n",
    "    Combustible 1: {fuel1}\n",
    "    Combustible 2: {fuel2}\n",
    "    Combustible 3: {fuel3}\n",
    "    \"\"\" "
   ]
  },
  {
   "cell_type": "code",
   "execution_count": 23,
   "metadata": {},
   "outputs": [
    {
     "name": "stdout",
     "output_type": "stream",
     "text": [
      "\n",
      "    Promedio del combustible: 15.0\n",
      "    Combustible 1: 15\n",
      "    Combustible 2: 15\n",
      "    Combustible 3: 15\n",
      "    \n"
     ]
    }
   ],
   "source": [
    "# Llamamos a la función que genera el reporte print(funcion(tanque1, tanque2, tanque3))\n",
    "print(impProm(15, 15, 15))"
   ]
  },
  {
   "cell_type": "code",
   "execution_count": 42,
   "metadata": {},
   "outputs": [
    {
     "data": {
      "text/plain": [
       "15.0"
      ]
     },
     "execution_count": 42,
     "metadata": {},
     "output_type": "execute_result"
    }
   ],
   "source": [
    "# Función promedio\n",
    "def sumaCombustible(*combus):\n",
    "    numeroCombus = len(combus)\n",
    "    prom = sum(combus) / int(numeroCombus)\n",
    "    return prom\n",
    "\n",
    "sumaCombustible(15, 15, 15)"
   ]
  },
  {
   "cell_type": "code",
   "execution_count": 44,
   "metadata": {},
   "outputs": [
    {
     "name": "stdout",
     "output_type": "stream",
     "text": [
      "\n",
      "    Promedio del combustible: 41.666666666666664\n",
      "    Combustible 1: 15\n",
      "    Combustible 2: 20\n",
      "    Combustible 3: 90\n",
      "    \n"
     ]
    }
   ],
   "source": [
    "# Actualiza la función\n",
    "def impProm(fuel1, fuel2, fuel3):\n",
    "    return f\"\"\"\n",
    "    Promedio del combustible: {sumaCombustible(fuel1, fuel2, fuel3)}\n",
    "    Combustible 1: {fuel1}\n",
    "    Combustible 2: {fuel2}\n",
    "    Combustible 3: {fuel3}\n",
    "    \"\"\" \n",
    "\n",
    "print(impProm(15, 20, 90))"
   ]
  },
  {
   "cell_type": "markdown",
   "metadata": {},
   "source": [
    "## Ejercicio 2"
   ]
  },
  {
   "cell_type": "code",
   "execution_count": 47,
   "metadata": {},
   "outputs": [
    {
     "name": "stdout",
     "output_type": "stream",
     "text": [
      "\n",
      "    -----Informe de la mision-----\n",
      "    Pre lanzamiento: 14 minutos\n",
      "    Tiempo de vuelo: 35 minutos\n",
      "    Destino de la mision: Luna\n",
      "    Nivel del tanque externo: 300000\n",
      "    Nivel del tanque interno: 200000 \n",
      "    -----Información detallada-----\n",
      "    Destino de la mision: Luna\n",
      "    Tiempo hasta el destino: 49 minutos\n",
      "    Total de combustible: 500000\n",
      "    \n"
     ]
    }
   ],
   "source": [
    "# Función con un informe preciso de la misión. Considera hora de prelanzamiento, tiempo de vuelo, destino, tanque externo y tanque interno\n",
    "\n",
    "def informe(prelanzamiento, tiempoDeVuelo, destino, tanqExt, tanInt):\n",
    "    return f\"\"\"\n",
    "    -----Informe de la mision-----\n",
    "    Pre lanzamiento: {prelanzamiento} minutos\n",
    "    Tiempo de vuelo: {tiempoDeVuelo} minutos\n",
    "    Destino de la mision: {destino}\n",
    "    Nivel del tanque externo: {tanqExt}\n",
    "    Nivel del tanque interno: {tanInt} \n",
    "    -----Información detallada-----\n",
    "    Destino de la mision: {destino}\n",
    "    Tiempo hasta el destino: {tiempoAlDestino(prelanzamiento, tiempoDeVuelo)} minutos\n",
    "    Total de combustible: {nivelCombustible(tanqExt, tanInt)}\n",
    "    \"\"\"\n",
    "def tiempoAlDestino(*time):\n",
    "    timer = sum(time)\n",
    "    return timer\n",
    "\n",
    "def nivelCombustible(*combus):\n",
    "    combustible = sum(combus)\n",
    "    return combustible\n",
    "\n",
    "\n",
    "print(informe(14, 35, \"Luna\", 300000, 200000))\n"
   ]
  },
  {
   "cell_type": "code",
   "execution_count": 49,
   "metadata": {},
   "outputs": [
    {
     "name": "stdout",
     "output_type": "stream",
     "text": [
      "\n",
      "    -----Informe de la mision-----\n",
      "    Destino de la mision: Luna\n",
      "    Tiempo hasta el destino: 88 minutos\n",
      "    Total de combustible: 500000\n",
      "    \n"
     ]
    }
   ],
   "source": [
    "def informe2(destino, *minutos, **tanques):\n",
    "    return f\"\"\"\n",
    "    -----Informe de la mision-----\n",
    "    Destino de la mision: {destino}\n",
    "    Tiempo hasta el destino: {sum(minutos)} minutos\n",
    "    Total de combustible: {sum(tanques.values())}\n",
    "    \"\"\"\n",
    "\n",
    "\n",
    "\n",
    "print(informe2(\"Luna\", 15, 50, 23, externo = 200000, interno = 300000))"
   ]
  },
  {
   "cell_type": "code",
   "execution_count": 51,
   "metadata": {},
   "outputs": [
    {
     "name": "stdout",
     "output_type": "stream",
     "text": [
      "\n",
      "    -----Informe de la mision-----\n",
      "    Destino de la mision: Luna\n",
      "    Tiempo hasta el destino: 88 minutos\n",
      "    Total de combustible: 500000\n",
      "    externo, nivel de combustible 200000\n",
      "interno, nivel de combustible 300000\n",
      "\n"
     ]
    }
   ],
   "source": [
    "# Escribe tu nueva función\n",
    "def informe2(destino, *minutos, **tanques):\n",
    "    info = f\"\"\"\n",
    "    -----Informe de la mision-----\n",
    "    Destino de la mision: {destino}\n",
    "    Tiempo hasta el destino: {sum(minutos)} minutos\n",
    "    Total de combustible: {sum(tanques.values())}\n",
    "    \"\"\"\n",
    "    for nombre, cantidad  in tanques.items(): \n",
    "        info += f\"{nombre}, nivel de combustible {cantidad}\\n\"\n",
    "    return info\n",
    "\n",
    "\n",
    "\n",
    "\n",
    "print(informe2(\"Luna\", 15, 50, 23, externo = 200000, interno = 300000))"
   ]
  }
 ],
 "metadata": {
  "interpreter": {
   "hash": "89c03cb08c1aa6f0d5789038ae7526a4d516a8d47c59e3800814bdd43c861a4d"
  },
  "kernelspec": {
   "display_name": "Python 3.10.2 64-bit",
   "language": "python",
   "name": "python3"
  },
  "language_info": {
   "codemirror_mode": {
    "name": "ipython",
    "version": 3
   },
   "file_extension": ".py",
   "mimetype": "text/x-python",
   "name": "python",
   "nbconvert_exporter": "python",
   "pygments_lexer": "ipython3",
   "version": "3.10.2"
  },
  "orig_nbformat": 4
 },
 "nbformat": 4,
 "nbformat_minor": 2
}
