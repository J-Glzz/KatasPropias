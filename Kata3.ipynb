{
 "cells": [
  {
   "cell_type": "markdown",
   "metadata": {},
   "source": [
    "## Ejercicio 1\n",
    "Para este ejercicio, escribirás una lógica condicional que imprima una advertencia si un asteroide se acerca a la Tierra demasiado rápido. La velocidad del asteroide varía dependiendo de lo cerca que esté del sol, y cualquier velocidad superior a 25 kilómetros por segundo (km/s) merece una advertencia.\n",
    "\n",
    "Un asteroide se acerca, y viaja a una velocidad de 49 km/s."
   ]
  },
  {
   "cell_type": "code",
   "execution_count": 1,
   "metadata": {},
   "outputs": [
    {
     "name": "stdout",
     "output_type": "stream",
     "text": [
      "Advertencia, un asteroide se acerca a la tierra demasiado rápido!\n"
     ]
    }
   ],
   "source": [
    "asteroide = 49\n",
    "\n",
    "if asteroide > 25:\n",
    "    print(\"Advertencia, un asteroide se acerca a la tierra demasiado rápido!\")\n",
    "else:\n",
    "    print(\"Todo esta bajo control\")"
   ]
  },
  {
   "cell_type": "markdown",
   "metadata": {},
   "source": [
    "## Ejercicio 2"
   ]
  },
  {
   "cell_type": "code",
   "execution_count": 6,
   "metadata": {},
   "outputs": [
    {
     "name": "stdout",
     "output_type": "stream",
     "text": [
      "Alerta! Busquen un asteroide en el cielo\n"
     ]
    }
   ],
   "source": [
    "asteroide2 = 28\n",
    "if asteroide2 >= 20:\n",
    "    print(\"Alerta! Busquen un asteroide en el cielo\")\n",
    "elif asteroide2 > 25:\n",
    "    print(\"Advertencia, un asteroide se acerca a la tierra demasiado rápido!\")\n",
    "else:\n",
    "    print(\"Todo esta bajo control\")\n"
   ]
  },
  {
   "cell_type": "markdown",
   "metadata": {},
   "source": [
    "## Ejercicio 3: Uso de operadores and y or\n",
    "Los asteroides de menos de 25 metros en su dimensión más grande probablemente se quemarán a medida que entren en la atmósfera de la Tierra.\n",
    "Si una pieza de un asteroide que es más grande que 25 metros pero más pequeña que 1000 metros golpeara la Tierra, causaría mucho daño.\n"
   ]
  },
  {
   "cell_type": "code",
   "execution_count": 14,
   "metadata": {},
   "outputs": [
    {
     "name": "stdout",
     "output_type": "stream",
     "text": [
      "Advertencia! Un asteroide de grandes dimensiones de acerca rapidamente a la tierra.\n"
     ]
    }
   ],
   "source": [
    "asteroideTam = 26\n",
    "asteroide3 = 30\n",
    "\n",
    "if asteroideTam > 25 and asteroideTam <= 1000:\n",
    "    if (asteroide3 >25):\n",
    "        print(\"Advertencia! Un asteroide de grandes dimensiones de acerca rapidamente a la tierra.\")\n",
    "elif asteroideTam < 25 and asteroide3 >= 20:\n",
    "    print(\"Mira al cielo\")\n",
    "else:\n",
    "    print(\"Todo esta bajo control\")\n"
   ]
  }
 ],
 "metadata": {
  "interpreter": {
   "hash": "89c03cb08c1aa6f0d5789038ae7526a4d516a8d47c59e3800814bdd43c861a4d"
  },
  "kernelspec": {
   "display_name": "Python 3.10.2 64-bit",
   "language": "python",
   "name": "python3"
  },
  "language_info": {
   "codemirror_mode": {
    "name": "ipython",
    "version": 3
   },
   "file_extension": ".py",
   "mimetype": "text/x-python",
   "name": "python",
   "nbconvert_exporter": "python",
   "pygments_lexer": "ipython3",
   "version": "3.10.2"
  },
  "orig_nbformat": 4
 },
 "nbformat": 4,
 "nbformat_minor": 2
}
