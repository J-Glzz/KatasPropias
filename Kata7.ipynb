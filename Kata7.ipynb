{
 "cells": [
  {
   "cell_type": "markdown",
   "metadata": {},
   "source": [
    "## Ejercicio 1"
   ]
  },
  {
   "cell_type": "code",
   "execution_count": 14,
   "metadata": {},
   "outputs": [],
   "source": [
    "# Declara dos variables\n",
    "from time import sleep\n",
    "\n",
    "new_planet = ''\n",
    "planet = []"
   ]
  },
  {
   "cell_type": "code",
   "execution_count": 15,
   "metadata": {},
   "outputs": [],
   "source": [
    "# Escribe el ciclo while solicitado\n",
    "while new_planet.lower() != 'done':\n",
    "    if new_planet:\n",
    "        planet.append(new_planet) \n",
    "    new_planet = input(\"Agrega un planeta: \")\n"
   ]
  },
  {
   "cell_type": "markdown",
   "metadata": {},
   "source": [
    "## Ejercicio 2"
   ]
  },
  {
   "cell_type": "code",
   "execution_count": 16,
   "metadata": {},
   "outputs": [
    {
     "name": "stdout",
     "output_type": "stream",
     "text": [
      "Los planetas ingresados son los siguientes.\n",
      "Planeta a\n",
      "Planeta s\n",
      "Planeta d\n",
      "Planeta f\n",
      "Planeta g\n",
      "Planeta h\n",
      "Planeta j\n",
      "Planeta k\n",
      "Planeta l\n"
     ]
    }
   ],
   "source": [
    "print(\"Los planetas ingresados son los siguientes.\")\n",
    "\n",
    "for numer in planet:\n",
    "    print(\"Planeta \" + numer )\n",
    "    sleep(1)\n",
    "    "
   ]
  }
 ],
 "metadata": {
  "interpreter": {
   "hash": "89c03cb08c1aa6f0d5789038ae7526a4d516a8d47c59e3800814bdd43c861a4d"
  },
  "kernelspec": {
   "display_name": "Python 3.10.2 64-bit",
   "language": "python",
   "name": "python3"
  },
  "language_info": {
   "codemirror_mode": {
    "name": "ipython",
    "version": 3
   },
   "file_extension": ".py",
   "mimetype": "text/x-python",
   "name": "python",
   "nbconvert_exporter": "python",
   "pygments_lexer": "ipython3",
   "version": "3.10.2"
  },
  "orig_nbformat": 4
 },
 "nbformat": 4,
 "nbformat_minor": 2
}
