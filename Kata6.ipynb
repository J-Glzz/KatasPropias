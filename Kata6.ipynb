{
 "cells": [
  {
   "cell_type": "markdown",
   "metadata": {},
   "source": [
    "## Ejercicio 1\n",
    "Usar listas para almacenar nombres de planetas\n"
   ]
  },
  {
   "cell_type": "code",
   "execution_count": 39,
   "metadata": {},
   "outputs": [
    {
     "name": "stdout",
     "output_type": "stream",
     "text": [
      "There are  7  planets\n"
     ]
    }
   ],
   "source": [
    "#Lista de planetas y adicionalmente nepturno\n",
    "planets = ['Mercurio', 'Venus', 'Tierra', 'Marte', 'Jupiter', 'Saturno', 'Urano']\n",
    "print(\"There are \", len(planets), \" planets\")\n"
   ]
  },
  {
   "cell_type": "code",
   "execution_count": 41,
   "metadata": {},
   "outputs": [
    {
     "name": "stdout",
     "output_type": "stream",
     "text": [
      "Pluton  is the last planet\n"
     ]
    }
   ],
   "source": [
    "#Agregamos a nepturno\n",
    "planets.append('Pluton')\n",
    "print(planets[-1], \" is the last planet\")"
   ]
  },
  {
   "cell_type": "markdown",
   "metadata": {},
   "source": [
    "## Ejercicio 2\n"
   ]
  },
  {
   "cell_type": "code",
   "execution_count": 36,
   "metadata": {},
   "outputs": [
    {
     "name": "stdout",
     "output_type": "stream",
     "text": [
      "Introduce el nombre del planeta que deseas buscar (la primera letra debe de ir en Mayúsculas).\n"
     ]
    }
   ],
   "source": [
    "print(\"Introduce el nombre del planeta que deseas buscar (la primera letra debe de ir en Mayúsculas).\")\n",
    "buscar = input(\"Nombre del planeta a buscar: \")"
   ]
  },
  {
   "cell_type": "code",
   "execution_count": 37,
   "metadata": {},
   "outputs": [
    {
     "name": "stdout",
     "output_type": "stream",
     "text": [
      "El planeta Jupiter se encuentra en la lista\n"
     ]
    }
   ],
   "source": [
    "# Busca el planeta en la lista\n",
    "if(int(planets.index(buscar))!=-1):\n",
    "    print(\"El planeta \" + str(planets[planets.index(buscar)]) + \" se encuentra en la lista\")\n",
    "else:\n",
    "    print(\"No se encuentra el planeta\")"
   ]
  },
  {
   "cell_type": "code",
   "execution_count": 38,
   "metadata": {},
   "outputs": [
    {
     "name": "stdout",
     "output_type": "stream",
     "text": [
      "Del planeta que proporcionaste, estos son los mas cercanos al sol\n",
      "['Mercurio', 'Venus', 'Tierra', 'Marte']\n"
     ]
    }
   ],
   "source": [
    "# Muestra los planetas más cercanos al sol\n",
    "print(\"Del planeta que proporcionaste, estos son los mas cercanos al sol\")\n",
    "planetsNearToSun = planets[:int(planets.index(buscar))]\n",
    "print(str(planetsNearToSun))"
   ]
  },
  {
   "cell_type": "code",
   "execution_count": 34,
   "metadata": {},
   "outputs": [
    {
     "name": "stdout",
     "output_type": "stream",
     "text": [
      "Del planeta que proporcionaste, estos son los mas lejanos al sol\n",
      "['Marte', 'Jupiter', 'Saturno', 'Urano', 'Nepturno']\n"
     ]
    }
   ],
   "source": [
    "# Muestra los planetas más lejanos al sol\n",
    "print(\"Del planeta que proporcionaste, estos son los mas lejanos al sol\")\n",
    "planetsMoreFarToSun = planets[int(planets.index(buscar)):]\n",
    "print(str(planetsMoreFarToSun))"
   ]
  }
 ],
 "metadata": {
  "interpreter": {
   "hash": "89c03cb08c1aa6f0d5789038ae7526a4d516a8d47c59e3800814bdd43c861a4d"
  },
  "kernelspec": {
   "display_name": "Python 3.10.2 64-bit",
   "language": "python",
   "name": "python3"
  },
  "language_info": {
   "codemirror_mode": {
    "name": "ipython",
    "version": 3
   },
   "file_extension": ".py",
   "mimetype": "text/x-python",
   "name": "python",
   "nbconvert_exporter": "python",
   "pygments_lexer": "ipython3",
   "version": "3.10.2"
  },
  "orig_nbformat": 4
 },
 "nbformat": 4,
 "nbformat_minor": 2
}
